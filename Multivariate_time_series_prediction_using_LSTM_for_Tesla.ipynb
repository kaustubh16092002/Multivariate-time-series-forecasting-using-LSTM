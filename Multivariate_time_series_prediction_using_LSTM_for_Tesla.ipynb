{
  "nbformat": 4,
  "nbformat_minor": 0,
  "metadata": {
    "colab": {
      "provenance": []
    },
    "kernelspec": {
      "name": "python3",
      "display_name": "Python 3"
    },
    "language_info": {
      "name": "python"
    }
  },
  "cells": [
    {
      "cell_type": "code",
      "execution_count": 40,
      "metadata": {
        "id": "KMhnPo-cuNUm"
      },
      "outputs": [],
      "source": [
        "import numpy as np\n",
        "from keras.models import Sequential \n",
        "from keras.layers import LSTM\n",
        "from keras.layers import Dense\n",
        "from keras.layers import Dropout\n",
        "import pandas as pd\n",
        "from matplotlib import pyplot as plt\n",
        "from sklearn.preprocessing import StandardScaler\n",
        "import seaborn as sns "
      ]
    },
    {
      "cell_type": "code",
      "source": [
        "df = pd.read_csv('TSLA.csv')"
      ],
      "metadata": {
        "id": "dVO0s_yxufw4"
      },
      "execution_count": 20,
      "outputs": []
    },
    {
      "cell_type": "code",
      "source": [
        "df"
      ],
      "metadata": {
        "colab": {
          "base_uri": "https://localhost:8080/",
          "height": 419
        },
        "id": "BNn3KPl1vVt7",
        "outputId": "cb273f02-bce7-4a4a-b7df-90a06ea35d01"
      },
      "execution_count": 21,
      "outputs": [
        {
          "output_type": "execute_result",
          "data": {
            "text/plain": [
              "            Date        Open        High         Low       Close   Adj Close  \\\n",
              "0     2010-06-29    1.266667    1.666667    1.169333    1.592667    1.592667   \n",
              "1     2010-06-30    1.719333    2.028000    1.553333    1.588667    1.588667   \n",
              "2     2010-07-01    1.666667    1.728000    1.351333    1.464000    1.464000   \n",
              "3     2010-07-02    1.533333    1.540000    1.247333    1.280000    1.280000   \n",
              "4     2010-07-06    1.333333    1.333333    1.055333    1.074000    1.074000   \n",
              "...          ...         ...         ...         ...         ...         ...   \n",
              "3063  2022-08-29  282.829987  287.739990  280.700012  284.820007  284.820007   \n",
              "3064  2022-08-30  287.869995  288.480011  272.649994  277.700012  277.700012   \n",
              "3065  2022-08-31  280.619995  281.250000  271.809998  275.609985  275.609985   \n",
              "3066  2022-09-01  272.579987  277.579987  266.149994  277.160004  277.160004   \n",
              "3067  2022-09-02  281.070007  282.350006  269.079987  270.209991  270.209991   \n",
              "\n",
              "         Volume  \n",
              "0     281494500  \n",
              "1     257806500  \n",
              "2     123282000  \n",
              "3      77097000  \n",
              "4     103003500  \n",
              "...         ...  \n",
              "3063   41864700  \n",
              "3064   50541800  \n",
              "3065   52107300  \n",
              "3066   54287000  \n",
              "3067   50752200  \n",
              "\n",
              "[3068 rows x 7 columns]"
            ],
            "text/html": [
              "\n",
              "  <div id=\"df-1cb63e3f-d089-489f-ae3f-7e7c24b7c59c\">\n",
              "    <div class=\"colab-df-container\">\n",
              "      <div>\n",
              "<style scoped>\n",
              "    .dataframe tbody tr th:only-of-type {\n",
              "        vertical-align: middle;\n",
              "    }\n",
              "\n",
              "    .dataframe tbody tr th {\n",
              "        vertical-align: top;\n",
              "    }\n",
              "\n",
              "    .dataframe thead th {\n",
              "        text-align: right;\n",
              "    }\n",
              "</style>\n",
              "<table border=\"1\" class=\"dataframe\">\n",
              "  <thead>\n",
              "    <tr style=\"text-align: right;\">\n",
              "      <th></th>\n",
              "      <th>Date</th>\n",
              "      <th>Open</th>\n",
              "      <th>High</th>\n",
              "      <th>Low</th>\n",
              "      <th>Close</th>\n",
              "      <th>Adj Close</th>\n",
              "      <th>Volume</th>\n",
              "    </tr>\n",
              "  </thead>\n",
              "  <tbody>\n",
              "    <tr>\n",
              "      <th>0</th>\n",
              "      <td>2010-06-29</td>\n",
              "      <td>1.266667</td>\n",
              "      <td>1.666667</td>\n",
              "      <td>1.169333</td>\n",
              "      <td>1.592667</td>\n",
              "      <td>1.592667</td>\n",
              "      <td>281494500</td>\n",
              "    </tr>\n",
              "    <tr>\n",
              "      <th>1</th>\n",
              "      <td>2010-06-30</td>\n",
              "      <td>1.719333</td>\n",
              "      <td>2.028000</td>\n",
              "      <td>1.553333</td>\n",
              "      <td>1.588667</td>\n",
              "      <td>1.588667</td>\n",
              "      <td>257806500</td>\n",
              "    </tr>\n",
              "    <tr>\n",
              "      <th>2</th>\n",
              "      <td>2010-07-01</td>\n",
              "      <td>1.666667</td>\n",
              "      <td>1.728000</td>\n",
              "      <td>1.351333</td>\n",
              "      <td>1.464000</td>\n",
              "      <td>1.464000</td>\n",
              "      <td>123282000</td>\n",
              "    </tr>\n",
              "    <tr>\n",
              "      <th>3</th>\n",
              "      <td>2010-07-02</td>\n",
              "      <td>1.533333</td>\n",
              "      <td>1.540000</td>\n",
              "      <td>1.247333</td>\n",
              "      <td>1.280000</td>\n",
              "      <td>1.280000</td>\n",
              "      <td>77097000</td>\n",
              "    </tr>\n",
              "    <tr>\n",
              "      <th>4</th>\n",
              "      <td>2010-07-06</td>\n",
              "      <td>1.333333</td>\n",
              "      <td>1.333333</td>\n",
              "      <td>1.055333</td>\n",
              "      <td>1.074000</td>\n",
              "      <td>1.074000</td>\n",
              "      <td>103003500</td>\n",
              "    </tr>\n",
              "    <tr>\n",
              "      <th>...</th>\n",
              "      <td>...</td>\n",
              "      <td>...</td>\n",
              "      <td>...</td>\n",
              "      <td>...</td>\n",
              "      <td>...</td>\n",
              "      <td>...</td>\n",
              "      <td>...</td>\n",
              "    </tr>\n",
              "    <tr>\n",
              "      <th>3063</th>\n",
              "      <td>2022-08-29</td>\n",
              "      <td>282.829987</td>\n",
              "      <td>287.739990</td>\n",
              "      <td>280.700012</td>\n",
              "      <td>284.820007</td>\n",
              "      <td>284.820007</td>\n",
              "      <td>41864700</td>\n",
              "    </tr>\n",
              "    <tr>\n",
              "      <th>3064</th>\n",
              "      <td>2022-08-30</td>\n",
              "      <td>287.869995</td>\n",
              "      <td>288.480011</td>\n",
              "      <td>272.649994</td>\n",
              "      <td>277.700012</td>\n",
              "      <td>277.700012</td>\n",
              "      <td>50541800</td>\n",
              "    </tr>\n",
              "    <tr>\n",
              "      <th>3065</th>\n",
              "      <td>2022-08-31</td>\n",
              "      <td>280.619995</td>\n",
              "      <td>281.250000</td>\n",
              "      <td>271.809998</td>\n",
              "      <td>275.609985</td>\n",
              "      <td>275.609985</td>\n",
              "      <td>52107300</td>\n",
              "    </tr>\n",
              "    <tr>\n",
              "      <th>3066</th>\n",
              "      <td>2022-09-01</td>\n",
              "      <td>272.579987</td>\n",
              "      <td>277.579987</td>\n",
              "      <td>266.149994</td>\n",
              "      <td>277.160004</td>\n",
              "      <td>277.160004</td>\n",
              "      <td>54287000</td>\n",
              "    </tr>\n",
              "    <tr>\n",
              "      <th>3067</th>\n",
              "      <td>2022-09-02</td>\n",
              "      <td>281.070007</td>\n",
              "      <td>282.350006</td>\n",
              "      <td>269.079987</td>\n",
              "      <td>270.209991</td>\n",
              "      <td>270.209991</td>\n",
              "      <td>50752200</td>\n",
              "    </tr>\n",
              "  </tbody>\n",
              "</table>\n",
              "<p>3068 rows × 7 columns</p>\n",
              "</div>\n",
              "      <button class=\"colab-df-convert\" onclick=\"convertToInteractive('df-1cb63e3f-d089-489f-ae3f-7e7c24b7c59c')\"\n",
              "              title=\"Convert this dataframe to an interactive table.\"\n",
              "              style=\"display:none;\">\n",
              "        \n",
              "  <svg xmlns=\"http://www.w3.org/2000/svg\" height=\"24px\"viewBox=\"0 0 24 24\"\n",
              "       width=\"24px\">\n",
              "    <path d=\"M0 0h24v24H0V0z\" fill=\"none\"/>\n",
              "    <path d=\"M18.56 5.44l.94 2.06.94-2.06 2.06-.94-2.06-.94-.94-2.06-.94 2.06-2.06.94zm-11 1L8.5 8.5l.94-2.06 2.06-.94-2.06-.94L8.5 2.5l-.94 2.06-2.06.94zm10 10l.94 2.06.94-2.06 2.06-.94-2.06-.94-.94-2.06-.94 2.06-2.06.94z\"/><path d=\"M17.41 7.96l-1.37-1.37c-.4-.4-.92-.59-1.43-.59-.52 0-1.04.2-1.43.59L10.3 9.45l-7.72 7.72c-.78.78-.78 2.05 0 2.83L4 21.41c.39.39.9.59 1.41.59.51 0 1.02-.2 1.41-.59l7.78-7.78 2.81-2.81c.8-.78.8-2.07 0-2.86zM5.41 20L4 18.59l7.72-7.72 1.47 1.35L5.41 20z\"/>\n",
              "  </svg>\n",
              "      </button>\n",
              "      \n",
              "  <style>\n",
              "    .colab-df-container {\n",
              "      display:flex;\n",
              "      flex-wrap:wrap;\n",
              "      gap: 12px;\n",
              "    }\n",
              "\n",
              "    .colab-df-convert {\n",
              "      background-color: #E8F0FE;\n",
              "      border: none;\n",
              "      border-radius: 50%;\n",
              "      cursor: pointer;\n",
              "      display: none;\n",
              "      fill: #1967D2;\n",
              "      height: 32px;\n",
              "      padding: 0 0 0 0;\n",
              "      width: 32px;\n",
              "    }\n",
              "\n",
              "    .colab-df-convert:hover {\n",
              "      background-color: #E2EBFA;\n",
              "      box-shadow: 0px 1px 2px rgba(60, 64, 67, 0.3), 0px 1px 3px 1px rgba(60, 64, 67, 0.15);\n",
              "      fill: #174EA6;\n",
              "    }\n",
              "\n",
              "    [theme=dark] .colab-df-convert {\n",
              "      background-color: #3B4455;\n",
              "      fill: #D2E3FC;\n",
              "    }\n",
              "\n",
              "    [theme=dark] .colab-df-convert:hover {\n",
              "      background-color: #434B5C;\n",
              "      box-shadow: 0px 1px 3px 1px rgba(0, 0, 0, 0.15);\n",
              "      filter: drop-shadow(0px 1px 2px rgba(0, 0, 0, 0.3));\n",
              "      fill: #FFFFFF;\n",
              "    }\n",
              "  </style>\n",
              "\n",
              "      <script>\n",
              "        const buttonEl =\n",
              "          document.querySelector('#df-1cb63e3f-d089-489f-ae3f-7e7c24b7c59c button.colab-df-convert');\n",
              "        buttonEl.style.display =\n",
              "          google.colab.kernel.accessAllowed ? 'block' : 'none';\n",
              "\n",
              "        async function convertToInteractive(key) {\n",
              "          const element = document.querySelector('#df-1cb63e3f-d089-489f-ae3f-7e7c24b7c59c');\n",
              "          const dataTable =\n",
              "            await google.colab.kernel.invokeFunction('convertToInteractive',\n",
              "                                                     [key], {});\n",
              "          if (!dataTable) return;\n",
              "\n",
              "          const docLinkHtml = 'Like what you see? Visit the ' +\n",
              "            '<a target=\"_blank\" href=https://colab.research.google.com/notebooks/data_table.ipynb>data table notebook</a>'\n",
              "            + ' to learn more about interactive tables.';\n",
              "          element.innerHTML = '';\n",
              "          dataTable['output_type'] = 'display_data';\n",
              "          await google.colab.output.renderOutput(dataTable, element);\n",
              "          const docLink = document.createElement('div');\n",
              "          docLink.innerHTML = docLinkHtml;\n",
              "          element.appendChild(docLink);\n",
              "        }\n",
              "      </script>\n",
              "    </div>\n",
              "  </div>\n",
              "  "
            ]
          },
          "metadata": {},
          "execution_count": 21
        }
      ]
    },
    {
      "cell_type": "code",
      "source": [
        "train_dates = pd.to_datetime(df['Date'])"
      ],
      "metadata": {
        "id": "7ZFAuZD7uvTb"
      },
      "execution_count": 22,
      "outputs": []
    },
    {
      "cell_type": "code",
      "source": [
        "cols = list(df)[1:6] ## It wont include the volume column "
      ],
      "metadata": {
        "id": "Ux-H193Ju3S_"
      },
      "execution_count": 23,
      "outputs": []
    },
    {
      "cell_type": "code",
      "source": [
        "train_dates"
      ],
      "metadata": {
        "colab": {
          "base_uri": "https://localhost:8080/"
        },
        "id": "PygdZPeFu8eh",
        "outputId": "a3748267-af58-405e-ac7b-d4a31844741b"
      },
      "execution_count": 24,
      "outputs": [
        {
          "output_type": "execute_result",
          "data": {
            "text/plain": [
              "0      2010-06-29\n",
              "1      2010-06-30\n",
              "2      2010-07-01\n",
              "3      2010-07-02\n",
              "4      2010-07-06\n",
              "          ...    \n",
              "3063   2022-08-29\n",
              "3064   2022-08-30\n",
              "3065   2022-08-31\n",
              "3066   2022-09-01\n",
              "3067   2022-09-02\n",
              "Name: Date, Length: 3068, dtype: datetime64[ns]"
            ]
          },
          "metadata": {},
          "execution_count": 24
        }
      ]
    },
    {
      "cell_type": "code",
      "source": [
        "cols"
      ],
      "metadata": {
        "colab": {
          "base_uri": "https://localhost:8080/"
        },
        "id": "4Wt0UvvsvQbr",
        "outputId": "e320fb8c-d631-45cd-8a71-3f180acc2baf"
      },
      "execution_count": 25,
      "outputs": [
        {
          "output_type": "execute_result",
          "data": {
            "text/plain": [
              "['Open', 'High', 'Low', 'Close', 'Adj Close']"
            ]
          },
          "metadata": {},
          "execution_count": 25
        }
      ]
    },
    {
      "cell_type": "code",
      "source": [
        "df_for_training = df[cols].astype(float)"
      ],
      "metadata": {
        "id": "wFlGOctzu9Os"
      },
      "execution_count": 26,
      "outputs": []
    },
    {
      "cell_type": "code",
      "source": [
        "df_for_plot = df_for_training.tail(5000)"
      ],
      "metadata": {
        "id": "KHBLXccGu9X9"
      },
      "execution_count": 27,
      "outputs": []
    },
    {
      "cell_type": "code",
      "source": [
        "df_for_plot.plot.line()"
      ],
      "metadata": {
        "colab": {
          "base_uri": "https://localhost:8080/",
          "height": 282
        },
        "id": "6UikklI9u9a0",
        "outputId": "753e6139-c092-4774-d558-f53a14f03def"
      },
      "execution_count": 28,
      "outputs": [
        {
          "output_type": "execute_result",
          "data": {
            "text/plain": [
              "<matplotlib.axes._subplots.AxesSubplot at 0x7f47e64cd310>"
            ]
          },
          "metadata": {},
          "execution_count": 28
        },
        {
          "output_type": "display_data",
          "data": {
            "text/plain": [
              "<Figure size 432x288 with 1 Axes>"
            ],
            "image/png": "[encoded data removed]"
          },
          "metadata": {
            "needs_background": "light"
          }
        }
      ]
    },
    {
      "cell_type": "code",
      "source": [
        "scaler = StandardScaler() ##LSTM uses signoid and tanh that are sensitive to magnitude so values need to be normalized. So normalizing the dataset"
      ],
      "metadata": {
        "id": "8FSa-ux9u9dc"
      },
      "execution_count": 29,
      "outputs": []
    },
    {
      "cell_type": "code",
      "source": [
        "scaler = scaler.fit(df_for_training)\n",
        "df_for_training_scaled= scaler.transform(df_for_training)"
      ],
      "metadata": {
        "id": "xZwM3YHru9gD"
      },
      "execution_count": 30,
      "outputs": []
    },
    {
      "cell_type": "code",
      "source": [
        "df_for_training_scaled"
      ],
      "metadata": {
        "colab": {
          "base_uri": "https://localhost:8080/"
        },
        "id": "GbmgcScEu9iZ",
        "outputId": "028eab07-c84e-4911-86f2-b750d1cdb8fe"
      },
      "execution_count": 31,
      "outputs": [
        {
          "output_type": "execute_result",
          "data": {
            "text/plain": [
              "array([[-0.57430027, -0.5700248 , -0.57593609, -0.5712028 , -0.5712028 ],\n",
              "       [-0.56943668, -0.56623002, -0.57170017, -0.57124583, -0.57124583],\n",
              "       [-0.57000254, -0.56938067, -0.57392844, -0.57258687, -0.57258687],\n",
              "       ...,\n",
              "       [ 2.42716295,  2.36620815,  2.40950803,  2.37639916,  2.37639916],\n",
              "       [ 2.34077848,  2.32766503,  2.34707238,  2.3930727 ,  2.3930727 ],\n",
              "       [ 2.43199802,  2.3777606 ,  2.37939321,  2.31831147,  2.31831147]])"
            ]
          },
          "metadata": {},
          "execution_count": 31
        }
      ]
    },
    {
      "cell_type": "code",
      "source": [
        "trainX = [] ## this will be the value that we are inputting\n",
        "trainY = [] ## this will be where we would predict for the future "
      ],
      "metadata": {
        "id": "Or1gJqW1u9lP"
      },
      "execution_count": 32,
      "outputs": []
    },
    {
      "cell_type": "code",
      "source": [
        "n_future = 1 ## for how many we want to predict\n",
        "n_past = 14 ## number of past days we want to use to predict the future"
      ],
      "metadata": {
        "id": "wMVP9n1cu9n4"
      },
      "execution_count": 33,
      "outputs": []
    },
    {
      "cell_type": "code",
      "source": [
        "for i in range(n_past, len(df_for_training_scaled) - n_future + 1):\n",
        "  trainX.append(df_for_training_scaled[i - n_past:i, 0:df_for_training.shape[1]])\n",
        "  trainY.append(df_for_training_scaled[i + n_future - 1:i + n_future, 0])"
      ],
      "metadata": {
        "id": "f9HPB29ru9qg"
      },
      "execution_count": 34,
      "outputs": []
    },
    {
      "cell_type": "code",
      "source": [
        "trainX, trainY = np.array(trainX), np.array(trainY)"
      ],
      "metadata": {
        "id": "YrRxlThNu9tE"
      },
      "execution_count": 35,
      "outputs": []
    },
    {
      "cell_type": "code",
      "source": [
        "print('trainX shape == {}.'.format(trainX.shape))\n",
        "print('trainY shape == {}.'.format(trainY.shape))"
      ],
      "metadata": {
        "colab": {
          "base_uri": "https://localhost:8080/"
        },
        "id": "UYTZZY9wu9vj",
        "outputId": "62019ad6-6568-46e8-bf13-10a3f8d594f3"
      },
      "execution_count": 36,
      "outputs": [
        {
          "output_type": "stream",
          "name": "stdout",
          "text": [
            "trainX shape == (3054, 14, 5).\n",
            "trainY shape == (3054, 1).\n"
          ]
        }
      ]
    },
    {
      "cell_type": "code",
      "source": [
        "trainX"
      ],
      "metadata": {
        "colab": {
          "base_uri": "https://localhost:8080/"
        },
        "id": "3tjP1srPu9yA",
        "outputId": "6d3a112c-2937-46fd-f85b-ea6f240ce3df"
      },
      "execution_count": 37,
      "outputs": [
        {
          "output_type": "execute_result",
          "data": {
            "text/plain": [
              "array([[[-0.57430027, -0.5700248 , -0.57593609, -0.5712028 ,\n",
              "         -0.5712028 ],\n",
              "        [-0.56943668, -0.56623002, -0.57170017, -0.57124583,\n",
              "         -0.57124583],\n",
              "        [-0.57000254, -0.56938067, -0.57392844, -0.57258687,\n",
              "         -0.57258687],\n",
              "        ...,\n",
              "        [-0.57362697, -0.57247531, -0.57486239, -0.57407134,\n",
              "         -0.57407134],\n",
              "        [-0.57308259, -0.57261534, -0.57409022, -0.57353349,\n",
              "         -0.57353349],\n",
              "        [-0.57260267, -0.5719502 , -0.57345042, -0.57262272,\n",
              "         -0.57262272]],\n",
              "\n",
              "       [[-0.56943668, -0.56623002, -0.57170017, -0.57124583,\n",
              "         -0.57124583],\n",
              "        [-0.57000254, -0.56938067, -0.57392844, -0.57258687,\n",
              "         -0.57258687],\n",
              "        [-0.57143513, -0.57135508, -0.57507567, -0.57456616,\n",
              "         -0.57456616],\n",
              "        ...,\n",
              "        [-0.57308259, -0.57261534, -0.57409022, -0.57353349,\n",
              "         -0.57353349],\n",
              "        [-0.57260267, -0.5719502 , -0.57345042, -0.57262272,\n",
              "         -0.57262272],\n",
              "        [-0.57225885, -0.57223025, -0.57409022, -0.57377731,\n",
              "         -0.57377731]],\n",
              "\n",
              "       [[-0.57000254, -0.56938067, -0.57392844, -0.57258687,\n",
              "         -0.57258687],\n",
              "        [-0.57143513, -0.57135508, -0.57507567, -0.57456616,\n",
              "         -0.57456616],\n",
              "        [-0.57358399, -0.57352553, -0.57719362, -0.5767821 ,\n",
              "         -0.5767821 ],\n",
              "        ...,\n",
              "        [-0.57260267, -0.5719502 , -0.57345042, -0.57262272,\n",
              "         -0.57262272],\n",
              "        [-0.57225885, -0.57223025, -0.57409022, -0.57377731,\n",
              "         -0.57377731],\n",
              "        [-0.57311124, -0.5728954 , -0.5744947 , -0.57383468,\n",
              "         -0.57383468]],\n",
              "\n",
              "       ...,\n",
              "\n",
              "       [[ 2.59792618,  2.54460506,  2.56419992,  2.49494142,\n",
              "          2.49494142],\n",
              "        [ 2.52167714,  2.56480431,  2.55537489,  2.63908504,\n",
              "          2.63908504],\n",
              "        [ 2.65458473,  2.70105245,  2.73404095,  2.73901758,\n",
              "          2.73901758],\n",
              "        ...,\n",
              "        [ 2.60777504,  2.58412827,  2.58225392,  2.51064653,\n",
              "          2.51064653],\n",
              "        [ 2.45090782,  2.43436716,  2.507574  ,  2.47547128,\n",
              "          2.47547128],\n",
              "        [ 2.50505931,  2.44213899,  2.41877404,  2.39888156,\n",
              "          2.39888156]],\n",
              "\n",
              "       [[ 2.52167714,  2.56480431,  2.55537489,  2.63908504,\n",
              "          2.63908504],\n",
              "        [ 2.65458473,  2.70105245,  2.73404095,  2.73901758,\n",
              "          2.73901758],\n",
              "        [ 2.76073839,  2.7171557 ,  2.75227876,  2.70936396,\n",
              "          2.70936396],\n",
              "        ...,\n",
              "        [ 2.45090782,  2.43436716,  2.507574  ,  2.47547128,\n",
              "          2.47547128],\n",
              "        [ 2.50505931,  2.44213899,  2.41877404,  2.39888156,\n",
              "          2.39888156],\n",
              "        [ 2.42716295,  2.36620815,  2.40950803,  2.37639916,\n",
              "          2.37639916]],\n",
              "\n",
              "       [[ 2.65458473,  2.70105245,  2.73404095,  2.73901758,\n",
              "          2.73901758],\n",
              "        [ 2.76073839,  2.7171557 ,  2.75227876,  2.70936396,\n",
              "          2.70936396],\n",
              "        [ 2.67188294,  2.66454003,  2.72084027,  2.68175453,\n",
              "          2.68175453],\n",
              "        ...,\n",
              "        [ 2.50505931,  2.44213899,  2.41877404,  2.39888156,\n",
              "          2.39888156],\n",
              "        [ 2.42716295,  2.36620815,  2.40950803,  2.37639916,\n",
              "          2.37639916],\n",
              "        [ 2.34077848,  2.32766503,  2.34707238,  2.3930727 ,\n",
              "          2.3930727 ]]])"
            ]
          },
          "metadata": {},
          "execution_count": 37
        }
      ]
    },
    {
      "cell_type": "code",
      "source": [
        "trainY"
      ],
      "metadata": {
        "colab": {
          "base_uri": "https://localhost:8080/"
        },
        "id": "zH0anou8u90o",
        "outputId": "ba81a272-6501-4da0-a8b1-f2530856b965"
      },
      "execution_count": 38,
      "outputs": [
        {
          "output_type": "execute_result",
          "data": {
            "text/plain": [
              "array([[-0.57225885],\n",
              "       [-0.57311124],\n",
              "       [-0.57322584],\n",
              "       ...,\n",
              "       [ 2.42716295],\n",
              "       [ 2.34077848],\n",
              "       [ 2.43199802]])"
            ]
          },
          "metadata": {},
          "execution_count": 38
        }
      ]
    },
    {
      "cell_type": "code",
      "source": [
        "model = Sequential()\n",
        "model.add(LSTM(64, activation = 'relu', input_shape=(trainX.shape[1], trainX.shape[2]), return_sequences = True))\n",
        "model.add(LSTM(32, activation = 'relu', return_sequences = False))\n",
        "model.add(Dropout(0.2))\n",
        "model.add(Dense(trainY.shape[1]))\n",
        "\n",
        "model.compile(optimizer='adam', loss = 'mse')\n",
        "model.summary()\n"
      ],
      "metadata": {
        "colab": {
          "base_uri": "https://localhost:8080/"
        },
        "id": "3Mthc5-Qu93A",
        "outputId": "255c3655-cd81-4814-f5e0-a292a7babb37"
      },
      "execution_count": 41,
      "outputs": [
        {
          "output_type": "stream",
          "name": "stdout",
          "text": [
            "Model: \"sequential_1\"\n",
            "_________________________________________________________________\n",
            " Layer (type)                Output Shape              Param #   \n",
            "=================================================================\n",
            " lstm_2 (LSTM)               (None, 14, 64)            17920     \n",
            "                                                                 \n",
            " lstm_3 (LSTM)               (None, 32)                12416     \n",
            "                                                                 \n",
            " dropout (Dropout)           (None, 32)                0         \n",
            "                                                                 \n",
            " dense (Dense)               (None, 1)                 33        \n",
            "                                                                 \n",
            "=================================================================\n",
            "Total params: 30,369\n",
            "Trainable params: 30,369\n",
            "Non-trainable params: 0\n",
            "_________________________________________________________________\n"
          ]
        }
      ]
    },
    {
      "cell_type": "code",
      "source": [
        "history = model.fit(trainX, trainY, epochs = 10, batch_size = 16, validation_split = 0.1, verbose =1)"
      ],
      "metadata": {
        "colab": {
          "base_uri": "https://localhost:8080/"
        },
        "id": "7vO36nouu95k",
        "outputId": "e5593132-a728-4d1c-b03c-b8bbff7575f2"
      },
      "execution_count": 42,
      "outputs": [
        {
          "output_type": "stream",
          "name": "stdout",
          "text": [
            "Epoch 1/10\n",
            "172/172 [==============================] - 5s 15ms/step - loss: 0.0433 - val_loss: 0.1001\n",
            "Epoch 2/10\n",
            "172/172 [==============================] - 2s 12ms/step - loss: 0.0153 - val_loss: 0.4535\n",
            "Epoch 3/10\n",
            "172/172 [==============================] - 2s 13ms/step - loss: 0.0158 - val_loss: 0.0906\n",
            "Epoch 4/10\n",
            "172/172 [==============================] - 2s 13ms/step - loss: 0.0162 - val_loss: 0.0828\n",
            "Epoch 5/10\n",
            "172/172 [==============================] - 2s 12ms/step - loss: 0.0166 - val_loss: 0.1823\n",
            "Epoch 6/10\n",
            "172/172 [==============================] - 2s 12ms/step - loss: 0.0177 - val_loss: 0.2124\n",
            "Epoch 7/10\n",
            "172/172 [==============================] - 2s 13ms/step - loss: 0.0143 - val_loss: 0.1466\n",
            "Epoch 8/10\n",
            "172/172 [==============================] - 2s 12ms/step - loss: 0.0120 - val_loss: 0.1150\n",
            "Epoch 9/10\n",
            "172/172 [==============================] - 2s 13ms/step - loss: 0.0124 - val_loss: 0.0935\n",
            "Epoch 10/10\n",
            "172/172 [==============================] - 2s 13ms/step - loss: 0.0107 - val_loss: 0.1547\n"
          ]
        }
      ]
    },
    {
      "cell_type": "code",
      "source": [
        "plt.plot(history.history['loss'], label='Training loss')\n",
        "plt.plot(history.history['val_loss'], label='Validation loss')\n",
        "plt.legend()"
      ],
      "metadata": {
        "colab": {
          "base_uri": "https://localhost:8080/",
          "height": 282
        },
        "id": "6f6p5Q7du98L",
        "outputId": "2a76fc6f-227c-4049-e883-2b8cd1873c90"
      },
      "execution_count": 43,
      "outputs": [
        {
          "output_type": "execute_result",
          "data": {
            "text/plain": [
              "<matplotlib.legend.Legend at 0x7f47dd6840d0>"
            ]
          },
          "metadata": {},
          "execution_count": 43
        },
        {
          "output_type": "display_data",
          "data": {
            "text/plain": [
              "<Figure size 432x288 with 1 Axes>"
            ],
            "image/png": "[encoded data removed]"
          },
          "metadata": {
            "needs_background": "light"
          }
        }
      ]
    },
    {
      "cell_type": "code",
      "source": [
        "#Predicting...\n",
        "#Libraries that will help us extract only business days in the US.\n",
        "#Otherwise our dates would be wrong when we look back (or forward).  \n",
        "from pandas.tseries.holiday import USFederalHolidayCalendar\n",
        "from pandas.tseries.offsets import CustomBusinessDay\n",
        "us_bd = CustomBusinessDay(calendar=USFederalHolidayCalendar())"
      ],
      "metadata": {
        "id": "vgrKUp0wu9-0"
      },
      "execution_count": 44,
      "outputs": []
    },
    {
      "cell_type": "code",
      "source": [
        "#Remember that we can only predict one day in future as our model needs 5 variables\n",
        "#as inputs for prediction. We only have all 5 variables until the last day in our dataset.\n",
        "n_past = 16\n",
        "n_days_for_prediction=15  #let us predict past 15 days"
      ],
      "metadata": {
        "id": "OV32_DAFA3hT"
      },
      "execution_count": 45,
      "outputs": []
    },
    {
      "cell_type": "code",
      "source": [
        "predict_period_dates = pd.date_range(list(train_dates)[-n_past], periods=n_days_for_prediction, freq=us_bd).tolist()\n",
        "print(predict_period_dates)\n",
        "\n",
        "#Make prediction\n",
        "prediction = model.predict(trainX[-n_days_for_prediction:]) #shape = (n, 1) where n is the n_days_for_prediction\n",
        "\n",
        "#Perform inverse transformation to rescale back to original range\n",
        "#Since we used 5 variables for transform, the inverse expects same dimensions\n",
        "#Therefore, let us copy our values 5 times and discard them after inverse transform\n",
        "prediction_copies = np.repeat(prediction, df_for_training.shape[1], axis=-1)\n",
        "y_pred_future = scaler.inverse_transform(prediction_copies)[:,0]\n",
        "\n",
        "\n",
        "# Convert timestamp to date\n",
        "forecast_dates = []\n",
        "for time_i in predict_period_dates:\n",
        "    forecast_dates.append(time_i.date())\n",
        "    \n",
        "df_forecast = pd.DataFrame({'Date':np.array(forecast_dates), 'Open':y_pred_future})\n",
        "df_forecast['Date']=pd.to_datetime(df_forecast['Date'])\n",
        "\n",
        "\n",
        "original = df[['Date', 'Open']]\n",
        "original['Date']=pd.to_datetime(original['Date'])\n",
        "original = original.loc[original['Date'] >= '2022-8-1']\n",
        "\n",
        "sns.lineplot(original['Date'], original['Open'])\n",
        "sns.lineplot(df_forecast['Date'], df_forecast['Open'])"
      ],
      "metadata": {
        "colab": {
          "base_uri": "https://localhost:8080/",
          "height": 486
        },
        "id": "OQDh1kZhA7nO",
        "outputId": "036da7c1-ab24-483e-f293-84787899b0e8"
      },
      "execution_count": 54,
      "outputs": [
        {
          "output_type": "stream",
          "name": "stdout",
          "text": [
            "[Timestamp('2022-08-12 00:00:00', freq='C'), Timestamp('2022-08-15 00:00:00', freq='C'), Timestamp('2022-08-16 00:00:00', freq='C'), Timestamp('2022-08-17 00:00:00', freq='C'), Timestamp('2022-08-18 00:00:00', freq='C'), Timestamp('2022-08-19 00:00:00', freq='C'), Timestamp('2022-08-22 00:00:00', freq='C'), Timestamp('2022-08-23 00:00:00', freq='C'), Timestamp('2022-08-24 00:00:00', freq='C'), Timestamp('2022-08-25 00:00:00', freq='C'), Timestamp('2022-08-26 00:00:00', freq='C'), Timestamp('2022-08-29 00:00:00', freq='C'), Timestamp('2022-08-30 00:00:00', freq='C'), Timestamp('2022-08-31 00:00:00', freq='C'), Timestamp('2022-09-01 00:00:00', freq='C')]\n"
          ]
        },
        {
          "output_type": "stream",
          "name": "stderr",
          "text": [
            "/usr/local/lib/python3.7/dist-packages/ipykernel_launcher.py:24: SettingWithCopyWarning: \n",
            "A value is trying to be set on a copy of a slice from a DataFrame.\n",
            "Try using .loc[row_indexer,col_indexer] = value instead\n",
            "\n",
            "See the caveats in the documentation: https://pandas.pydata.org/pandas-docs/stable/user_guide/indexing.html#returning-a-view-versus-a-copy\n",
            "/usr/local/lib/python3.7/dist-packages/seaborn/_decorators.py:43: FutureWarning: Pass the following variables as keyword args: x, y. From version 0.12, the only valid positional argument will be `data`, and passing other arguments without an explicit keyword will result in an error or misinterpretation.\n",
            "  FutureWarning\n",
            "/usr/local/lib/python3.7/dist-packages/seaborn/_decorators.py:43: FutureWarning: Pass the following variables as keyword args: x, y. From version 0.12, the only valid positional argument will be `data`, and passing other arguments without an explicit keyword will result in an error or misinterpretation.\n",
            "  FutureWarning\n"
          ]
        },
        {
          "output_type": "execute_result",
          "data": {
            "text/plain": [
              "<matplotlib.axes._subplots.AxesSubplot at 0x7f47e1c857d0>"
            ]
          },
          "metadata": {},
          "execution_count": 54
        },
        {
          "output_type": "display_data",
          "data": {
            "text/plain": [
              "<Figure size 432x288 with 1 Axes>"
            ],
            "image/png": "[encoded data removed]"
          },
          "metadata": {
            "needs_background": "light"
          }
        }
      ]
    }
  ]
}